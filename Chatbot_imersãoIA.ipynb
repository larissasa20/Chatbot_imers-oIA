{
  "nbformat": 4,
  "nbformat_minor": 0,
  "metadata": {
    "colab": {
      "provenance": [],
      "authorship_tag": "ABX9TyPlXs2kEJttyUe6bZWtulRt",
      "include_colab_link": true
    },
    "kernelspec": {
      "name": "python3",
      "display_name": "Python 3"
    },
    "language_info": {
      "name": "python"
    }
  },
  "cells": [
    {
      "cell_type": "markdown",
      "metadata": {
        "id": "view-in-github",
        "colab_type": "text"
      },
      "source": [
        "<a href=\"https://colab.research.google.com/github/larissasa20/Chatbot_imers-oIA/blob/main/Chatbot_imers%C3%A3oIA.ipynb\" target=\"_parent\"><img src=\"https://colab.research.google.com/assets/colab-badge.svg\" alt=\"Open In Colab\"/></a>"
      ]
    },
    {
      "cell_type": "code",
      "execution_count": 1,
      "metadata": {
        "id": "Xn2Qs3FFU32f"
      },
      "outputs": [],
      "source": [
        "#Instalando o SDK do Google\n",
        "!pip install -q -U google-generativeai"
      ]
    },
    {
      "cell_type": "code",
      "source": [
        "#Configurações iniciais\n",
        "import google.generativeai as genai\n",
        "from google.colab import userdata\n",
        "api_key = userdata.get('SECRET_KEY')\n",
        "genai.configure(api_key=api_key)"
      ],
      "metadata": {
        "id": "p9cbt_8PU7n5"
      },
      "execution_count": 28,
      "outputs": []
    },
    {
      "cell_type": "code",
      "source": [
        "#Listando os modelos disponíveis\n",
        "for m in genai.list_models():\n",
        "  if 'generateContent' in m.supported_generation_methods:\n",
        "    print(m.name)"
      ],
      "metadata": {
        "colab": {
          "base_uri": "https://localhost:8080/",
          "height": 138
        },
        "id": "Y2KAiR_4U-kV",
        "outputId": "72b64a80-4bcf-49f7-ff38-33ec5743fa9f"
      },
      "execution_count": 3,
      "outputs": [
        {
          "output_type": "stream",
          "name": "stdout",
          "text": [
            "models/gemini-1.0-pro\n",
            "models/gemini-1.0-pro-001\n",
            "models/gemini-1.0-pro-latest\n",
            "models/gemini-1.0-pro-vision-latest\n",
            "models/gemini-1.5-pro-latest\n",
            "models/gemini-pro\n",
            "models/gemini-pro-vision\n"
          ]
        }
      ]
    },
    {
      "cell_type": "code",
      "source": [
        "generation_config = {\n",
        "  \"candidate_count\": 1,\n",
        "  \"temperature\": 0.5,\n",
        "}"
      ],
      "metadata": {
        "id": "TEm7tbnoVAqc"
      },
      "execution_count": 4,
      "outputs": []
    },
    {
      "cell_type": "code",
      "source": [
        "safety_settings={\n",
        "    'HATE': 'BLOCK_NONE',\n",
        "    'HARASSMENT': 'BLOCK_NONE',\n",
        "    'SEXUAL' : 'BLOCK_NONE',\n",
        "    'DANGEROUS' : 'BLOCK_NONE'\n",
        "    }"
      ],
      "metadata": {
        "id": "P8viR2a9VDe4"
      },
      "execution_count": 5,
      "outputs": []
    },
    {
      "cell_type": "code",
      "source": [
        "model = genai.GenerativeModel(model_name='gemini-1.0-pro-001',\n",
        "                                  generation_config=generation_config,\n",
        "                                  safety_settings=safety_settings,)"
      ],
      "metadata": {
        "id": "nDbza6fUVFJe"
      },
      "execution_count": 6,
      "outputs": []
    },
    {
      "cell_type": "code",
      "source": [
        "response = model.generate_content(\"Chatbot sobre Assistencia Social e Direitos Humanos\")\n",
        "response.text"
      ],
      "metadata": {
        "colab": {
          "base_uri": "https://localhost:8080/",
          "height": 209
        },
        "id": "s37RCYa-VH5s",
        "outputId": "85a33573-1c4a-4554-dd3e-de37c252068d"
      },
      "execution_count": 7,
      "outputs": [
        {
          "output_type": "execute_result",
          "data": {
            "text/plain": [
              "'**Assistente Virtual de Assistência Social e Direitos Humanos**\\n\\n**Introdução:**\\n\\nOlá! Sou um assistente virtual projetado para fornecer informações e suporte sobre assistência social e direitos humanos. Estou aqui para ajudá-lo a navegar pelos recursos e serviços disponíveis em sua comunidade.\\n\\n**Como posso ajudar:**\\n\\n* **Informações sobre programas de assistência social:** Forneço informações sobre programas como assistência alimentar, assistência médica, moradia e assistência infantil.\\n* **Localização de recursos locais:** Posso ajudá-lo a encontrar agências e organizações locais que oferecem assistência e apoio.\\n* **Compreensão de direitos humanos:** Explico direitos humanos fundamentais, como o direito à saúde, educação e moradia adequada.\\n* **Denúncias de violações de direitos humanos:** Forneço informações sobre como denunciar violações de direitos humanos e obter ajuda.\\n* **Apoio emocional:** Ofereço apoio emocional e orientação para pessoas que enfrentam desafios relacionados à assistência social ou direitos humanos.\\n\\n**Como me usar:**\\n\\n* **Faça uma pergunta:** Digite sua pergunta na caixa de bate-papo abaixo.\\n* **Forneça informações:** Se eu precisar de informações adicionais, farei perguntas de acompanhamento.\\n* **Receba uma resposta:** Fornecerei informações, recursos ou suporte com base em sua pergunta.\\n\\n**Observação:**\\n\\nNão sou um profissional de assistência social ou de direitos humanos e não posso fornecer aconselhamento jurídico. No entanto, posso fornecer informações e recursos para ajudá-lo a obter o apoio necessário.\\n\\n**Vamos começar:**\\n\\nSinta-se à vontade para fazer sua primeira pergunta na caixa de bate-papo abaixo. Estou aqui para ajudar!'"
            ],
            "application/vnd.google.colaboratory.intrinsic+json": {
              "type": "string"
            }
          },
          "metadata": {},
          "execution_count": 7
        }
      ]
    },
    {
      "cell_type": "code",
      "source": [
        "# Função para obter informações do usuário\n",
        "def get_trip_info():\n",
        "  situacao = input(\"Entendo. Você está em uma situação de emergência? \")\n",
        "  localizacao = input(\"Qual sua localização? (Cidade e estado) \")\n",
        "  return  situacao, localizacao\n",
        "\n",
        "# Função para gerar sugestões de organização e ONG's\n",
        "def gerar_sugestoes(situacao, localizacao):\n",
        "  prompt = f\"Sugestões de organização e ONG's de acordo com a {situacao} localizada proximo {localizacao}\"\n",
        "  response = model.generate_content(prompt)\n",
        "  return response.text\n",
        "\n",
        "# Início da interação com o chatbot\n",
        "print(\"Olá! Sou o seu assistente virtual de assistência social e direitos humanos.\")\n",
        "\n",
        "# Loop principal\n",
        "while True:\n",
        "  opcao = input(\"Em que área você precisa de ajuda hoje? (1- abrigo, 2- sair)\")\n",
        "  if opcao == \"1\":\n",
        "    situacao, localizacao = get_trip_info()\n",
        "    sugestoes = gerar_sugestoes(situacao, localizacao)\n",
        "    print(f\"Obrigado pelas informações. Aqui estão algumas opções para você em {localizacao}:\\n\", sugestoes)\n",
        "  elif opcao == \"2\":\n",
        "    print(\"Sempre que precisar, é só entrar em contato :)\")\n",
        "    break\n",
        "  else:\n",
        "    print(\"Opção inválida. Por favor, escolha 1 ou 2.\")"
      ],
      "metadata": {
        "colab": {
          "base_uri": "https://localhost:8080/",
          "height": 507
        },
        "id": "EwF7W3CdV0HE",
        "outputId": "17d74284-a2dd-4fb8-9ff7-c411292da0ca"
      },
      "execution_count": null,
      "outputs": [
        {
          "output_type": "stream",
          "name": "stdout",
          "text": [
            "Olá! Sou o seu assistente virtual de assistência social e direitos humanos.\n",
            "Em que área você precisa de ajuda hoje? (1- abrigo, 2- sair)1\n",
            "Entendo. Você está em uma situação de emergência? sim\n",
            "Qual sua localização? (Cidade e estado) Guarulhos, sp\n",
            "Obrigado pelas informações. Aqui estão algumas opções para você em Guarulhos, sp:\n",
            " **Organizações Não Governamentais (ONGs)**\n",
            "\n",
            "* **Associação Beneficente Cristã Caminho da Vida:** Rua Padre Anchieta, 130 - Vila Augusta\n",
            "* **Casa do Caminho Guarulhos:** Rua São Vicente de Paulo, 100 - Jardim Tranquilidade\n",
            "* **Centro de Apoio à Criança e ao Adolescente (CACA):** Rua Capitão Gabriel, 105 - Vila Augusta\n",
            "* **Centro de Convivência da Melhor Idade (CCI):** Rua Padre Anchieta, 399 - Vila Augusta\n",
            "* **Fundação CASA:** Avenida Guarulhos, 4.400 - Jardim São João\n",
            "* **Instituto Pró-Cidadania, Direitos Humanos e Desenvolvimento (IPCDD):** Rua Carlos Gomes, 268 - Vila Augusta\n",
            "* **Lar das Crianças de Guarulhos:** Rua Dona Maria de Castro, 120 - Jardim Tranquilidade\n",
            "* **Projeto Guri Guarulhos:** Rua São Vicente de Paulo, 100 - Jardim Tranquilidade\n",
            "* **Santa Casa de Misericórdia de Guarulhos:** Rua Padre Anchieta, 380 - Vila Augusta\n",
            "\n",
            "**Organizações de Apoio à Comunidade**\n",
            "\n",
            "* **Associação de Moradores do Jardim Tranquilidade:** Rua São Vicente de Paulo, 100 - Jardim Tranquilidade\n",
            "* **Associação de Moradores do Jardim São João:** Avenida Guarulhos, 4.400 - Jardim São João\n",
            "* **Conselho Comunitário de Segurança (CONSEG) do Jardim Tranquilidade:** Rua São Vicente de Paulo, 100 - Jardim Tranquilidade\n",
            "* **Conselho Comunitário de Segurança (CONSEG) do Jardim São João:** Avenida Guarulhos, 4.400 - Jardim São João\n",
            "* **Fórum de Entidades Assistenciais de Guarulhos (FEAG):** Rua Padre Anchieta, 399 - Vila Augusta\n",
            "* **Paróquia Nossa Senhora da Conceição:** Rua Padre Anchieta, 380 - Vila Augusta\n",
            "* **União das Associações de Moradores de Guarulhos (UAMG):** Rua Capitão Gabriel, 105 - Vila Augusta\n"
          ]
        }
      ]
    },
    {
      "cell_type": "code",
      "source": [],
      "metadata": {
        "id": "Oz2nqu8CNc2n"
      },
      "execution_count": null,
      "outputs": []
    }
  ]
}